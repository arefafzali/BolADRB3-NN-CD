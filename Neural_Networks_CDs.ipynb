{
  "cells": [
    {
      "cell_type": "code",
      "execution_count": null,
      "metadata": {
        "id": "4801BZNflx8N"
      },
      "outputs": [],
      "source": [
        "import pandas as pd\n",
        "from sklearn.model_selection import train_test_split\n",
        "import torch\n",
        "import torch.nn as nn\n",
        "from tqdm.notebook import tqdm\n",
        "import torch.nn.functional as F\n",
        "import matplotlib.pyplot as plt\n",
        "import numpy as np\n",
        "from sklearn import preprocessing\n",
        "from sklearn.metrics import precision_recall_fscore_support, accuracy_score, confusion_matrix"
      ]
    },
    {
      "cell_type": "code",
      "execution_count": null,
      "metadata": {
        "colab": {
          "base_uri": "https://localhost:8080/"
        },
        "id": "xYPe_iO9l7q_",
        "outputId": "44ccfeaa-77a9-4d3d-f406-1937c9c7f6bb"
      },
      "outputs": [
        {
          "output_type": "stream",
          "name": "stdout",
          "text": [
            "Mounted at /content/drive\n"
          ]
        }
      ],
      "source": [
        "from google.colab import drive\n",
        "drive.mount('/content/drive')"
      ]
    },
    {
      "cell_type": "code",
      "execution_count": null,
      "metadata": {
        "colab": {
          "base_uri": "https://localhost:8080/",
          "height": 206
        },
        "id": "M1xC9XJAmzYm",
        "outputId": "a919e4e0-cd54-4a70-dadd-706ce0db8b98"
      },
      "outputs": [
        {
          "output_type": "execute_result",
          "data": {
            "text/plain": [
              "   Number Allele1 Allele2    CD4    CD8  CD4CD8   CD21  SN  SP\n",
              "0      72   *1201  *20012   8.96   9.83     0.9   7.53   0   1\n",
              "1      56   *0101   *0101  50.80  20.52     2.5   0.50   0   1\n",
              "2      96   *0601   *1101  31.20  38.40     0.8   5.04   1   0\n",
              "3      95   *1101   *1802  15.59  20.90     0.7  14.57   0   1\n",
              "4      94   *1201   *2704  49.95  16.36     3.1   7.25   1   0"
            ],
            "text/html": [
              "\n",
              "\n",
              "  <div id=\"df-4c9a29a5-3af3-4b8f-aa51-0b5c7e878e0d\">\n",
              "    <div class=\"colab-df-container\">\n",
              "      <div>\n",
              "<style scoped>\n",
              "    .dataframe tbody tr th:only-of-type {\n",
              "        vertical-align: middle;\n",
              "    }\n",
              "\n",
              "    .dataframe tbody tr th {\n",
              "        vertical-align: top;\n",
              "    }\n",
              "\n",
              "    .dataframe thead th {\n",
              "        text-align: right;\n",
              "    }\n",
              "</style>\n",
              "<table border=\"1\" class=\"dataframe\">\n",
              "  <thead>\n",
              "    <tr style=\"text-align: right;\">\n",
              "      <th></th>\n",
              "      <th>Number</th>\n",
              "      <th>Allele1</th>\n",
              "      <th>Allele2</th>\n",
              "      <th>CD4</th>\n",
              "      <th>CD8</th>\n",
              "      <th>CD4CD8</th>\n",
              "      <th>CD21</th>\n",
              "      <th>SN</th>\n",
              "      <th>SP</th>\n",
              "    </tr>\n",
              "  </thead>\n",
              "  <tbody>\n",
              "    <tr>\n",
              "      <th>0</th>\n",
              "      <td>72</td>\n",
              "      <td>*1201</td>\n",
              "      <td>*20012</td>\n",
              "      <td>8.96</td>\n",
              "      <td>9.83</td>\n",
              "      <td>0.9</td>\n",
              "      <td>7.53</td>\n",
              "      <td>0</td>\n",
              "      <td>1</td>\n",
              "    </tr>\n",
              "    <tr>\n",
              "      <th>1</th>\n",
              "      <td>56</td>\n",
              "      <td>*0101</td>\n",
              "      <td>*0101</td>\n",
              "      <td>50.80</td>\n",
              "      <td>20.52</td>\n",
              "      <td>2.5</td>\n",
              "      <td>0.50</td>\n",
              "      <td>0</td>\n",
              "      <td>1</td>\n",
              "    </tr>\n",
              "    <tr>\n",
              "      <th>2</th>\n",
              "      <td>96</td>\n",
              "      <td>*0601</td>\n",
              "      <td>*1101</td>\n",
              "      <td>31.20</td>\n",
              "      <td>38.40</td>\n",
              "      <td>0.8</td>\n",
              "      <td>5.04</td>\n",
              "      <td>1</td>\n",
              "      <td>0</td>\n",
              "    </tr>\n",
              "    <tr>\n",
              "      <th>3</th>\n",
              "      <td>95</td>\n",
              "      <td>*1101</td>\n",
              "      <td>*1802</td>\n",
              "      <td>15.59</td>\n",
              "      <td>20.90</td>\n",
              "      <td>0.7</td>\n",
              "      <td>14.57</td>\n",
              "      <td>0</td>\n",
              "      <td>1</td>\n",
              "    </tr>\n",
              "    <tr>\n",
              "      <th>4</th>\n",
              "      <td>94</td>\n",
              "      <td>*1201</td>\n",
              "      <td>*2704</td>\n",
              "      <td>49.95</td>\n",
              "      <td>16.36</td>\n",
              "      <td>3.1</td>\n",
              "      <td>7.25</td>\n",
              "      <td>1</td>\n",
              "      <td>0</td>\n",
              "    </tr>\n",
              "  </tbody>\n",
              "</table>\n",
              "</div>\n",
              "      <button class=\"colab-df-convert\" onclick=\"convertToInteractive('df-4c9a29a5-3af3-4b8f-aa51-0b5c7e878e0d')\"\n",
              "              title=\"Convert this dataframe to an interactive table.\"\n",
              "              style=\"display:none;\">\n",
              "\n",
              "  <svg xmlns=\"http://www.w3.org/2000/svg\" height=\"24px\"viewBox=\"0 0 24 24\"\n",
              "       width=\"24px\">\n",
              "    <path d=\"M0 0h24v24H0V0z\" fill=\"none\"/>\n",
              "    <path d=\"M18.56 5.44l.94 2.06.94-2.06 2.06-.94-2.06-.94-.94-2.06-.94 2.06-2.06.94zm-11 1L8.5 8.5l.94-2.06 2.06-.94-2.06-.94L8.5 2.5l-.94 2.06-2.06.94zm10 10l.94 2.06.94-2.06 2.06-.94-2.06-.94-.94-2.06-.94 2.06-2.06.94z\"/><path d=\"M17.41 7.96l-1.37-1.37c-.4-.4-.92-.59-1.43-.59-.52 0-1.04.2-1.43.59L10.3 9.45l-7.72 7.72c-.78.78-.78 2.05 0 2.83L4 21.41c.39.39.9.59 1.41.59.51 0 1.02-.2 1.41-.59l7.78-7.78 2.81-2.81c.8-.78.8-2.07 0-2.86zM5.41 20L4 18.59l7.72-7.72 1.47 1.35L5.41 20z\"/>\n",
              "  </svg>\n",
              "      </button>\n",
              "\n",
              "\n",
              "\n",
              "    <div id=\"df-7ae6b1ea-17f2-4d56-b29b-710263f5c378\">\n",
              "      <button class=\"colab-df-quickchart\" onclick=\"quickchart('df-7ae6b1ea-17f2-4d56-b29b-710263f5c378')\"\n",
              "              title=\"Suggest charts.\"\n",
              "              style=\"display:none;\">\n",
              "\n",
              "<svg xmlns=\"http://www.w3.org/2000/svg\" height=\"24px\"viewBox=\"0 0 24 24\"\n",
              "     width=\"24px\">\n",
              "    <g>\n",
              "        <path d=\"M19 3H5c-1.1 0-2 .9-2 2v14c0 1.1.9 2 2 2h14c1.1 0 2-.9 2-2V5c0-1.1-.9-2-2-2zM9 17H7v-7h2v7zm4 0h-2V7h2v10zm4 0h-2v-4h2v4z\"/>\n",
              "    </g>\n",
              "</svg>\n",
              "      </button>\n",
              "    </div>\n",
              "\n",
              "<style>\n",
              "  .colab-df-quickchart {\n",
              "    background-color: #E8F0FE;\n",
              "    border: none;\n",
              "    border-radius: 50%;\n",
              "    cursor: pointer;\n",
              "    display: none;\n",
              "    fill: #1967D2;\n",
              "    height: 32px;\n",
              "    padding: 0 0 0 0;\n",
              "    width: 32px;\n",
              "  }\n",
              "\n",
              "  .colab-df-quickchart:hover {\n",
              "    background-color: #E2EBFA;\n",
              "    box-shadow: 0px 1px 2px rgba(60, 64, 67, 0.3), 0px 1px 3px 1px rgba(60, 64, 67, 0.15);\n",
              "    fill: #174EA6;\n",
              "  }\n",
              "\n",
              "  [theme=dark] .colab-df-quickchart {\n",
              "    background-color: #3B4455;\n",
              "    fill: #D2E3FC;\n",
              "  }\n",
              "\n",
              "  [theme=dark] .colab-df-quickchart:hover {\n",
              "    background-color: #434B5C;\n",
              "    box-shadow: 0px 1px 3px 1px rgba(0, 0, 0, 0.15);\n",
              "    filter: drop-shadow(0px 1px 2px rgba(0, 0, 0, 0.3));\n",
              "    fill: #FFFFFF;\n",
              "  }\n",
              "</style>\n",
              "\n",
              "    <script>\n",
              "      async function quickchart(key) {\n",
              "        const containerElement = document.querySelector('#' + key);\n",
              "        const charts = await google.colab.kernel.invokeFunction(\n",
              "            'suggestCharts', [key], {});\n",
              "      }\n",
              "    </script>\n",
              "\n",
              "      <script>\n",
              "\n",
              "function displayQuickchartButton(domScope) {\n",
              "  let quickchartButtonEl =\n",
              "    domScope.querySelector('#df-7ae6b1ea-17f2-4d56-b29b-710263f5c378 button.colab-df-quickchart');\n",
              "  quickchartButtonEl.style.display =\n",
              "    google.colab.kernel.accessAllowed ? 'block' : 'none';\n",
              "}\n",
              "\n",
              "        displayQuickchartButton(document);\n",
              "      </script>\n",
              "      <style>\n",
              "    .colab-df-container {\n",
              "      display:flex;\n",
              "      flex-wrap:wrap;\n",
              "      gap: 12px;\n",
              "    }\n",
              "\n",
              "    .colab-df-convert {\n",
              "      background-color: #E8F0FE;\n",
              "      border: none;\n",
              "      border-radius: 50%;\n",
              "      cursor: pointer;\n",
              "      display: none;\n",
              "      fill: #1967D2;\n",
              "      height: 32px;\n",
              "      padding: 0 0 0 0;\n",
              "      width: 32px;\n",
              "    }\n",
              "\n",
              "    .colab-df-convert:hover {\n",
              "      background-color: #E2EBFA;\n",
              "      box-shadow: 0px 1px 2px rgba(60, 64, 67, 0.3), 0px 1px 3px 1px rgba(60, 64, 67, 0.15);\n",
              "      fill: #174EA6;\n",
              "    }\n",
              "\n",
              "    [theme=dark] .colab-df-convert {\n",
              "      background-color: #3B4455;\n",
              "      fill: #D2E3FC;\n",
              "    }\n",
              "\n",
              "    [theme=dark] .colab-df-convert:hover {\n",
              "      background-color: #434B5C;\n",
              "      box-shadow: 0px 1px 3px 1px rgba(0, 0, 0, 0.15);\n",
              "      filter: drop-shadow(0px 1px 2px rgba(0, 0, 0, 0.3));\n",
              "      fill: #FFFFFF;\n",
              "    }\n",
              "  </style>\n",
              "\n",
              "      <script>\n",
              "        const buttonEl =\n",
              "          document.querySelector('#df-4c9a29a5-3af3-4b8f-aa51-0b5c7e878e0d button.colab-df-convert');\n",
              "        buttonEl.style.display =\n",
              "          google.colab.kernel.accessAllowed ? 'block' : 'none';\n",
              "\n",
              "        async function convertToInteractive(key) {\n",
              "          const element = document.querySelector('#df-4c9a29a5-3af3-4b8f-aa51-0b5c7e878e0d');\n",
              "          const dataTable =\n",
              "            await google.colab.kernel.invokeFunction('convertToInteractive',\n",
              "                                                     [key], {});\n",
              "          if (!dataTable) return;\n",
              "\n",
              "          const docLinkHtml = 'Like what you see? Visit the ' +\n",
              "            '<a target=\"_blank\" href=https://colab.research.google.com/notebooks/data_table.ipynb>data table notebook</a>'\n",
              "            + ' to learn more about interactive tables.';\n",
              "          element.innerHTML = '';\n",
              "          dataTable['output_type'] = 'display_data';\n",
              "          await google.colab.output.renderOutput(dataTable, element);\n",
              "          const docLink = document.createElement('div');\n",
              "          docLink.innerHTML = docLinkHtml;\n",
              "          element.appendChild(docLink);\n",
              "        }\n",
              "      </script>\n",
              "    </div>\n",
              "  </div>\n"
            ]
          },
          "metadata": {},
          "execution_count": 3
        }
      ],
      "source": [
        "samples_path = \"/content/drive/MyDrive/Gav/BolADRB3.xlsx\"\n",
        "df = pd.read_excel(samples_path)\n",
        "df.head()"
      ]
    },
    {
      "cell_type": "code",
      "execution_count": null,
      "metadata": {
        "id": "5GPrP4RtRt5j"
      },
      "outputs": [],
      "source": [
        "df = df.reindex(columns=['SN', 'SP', 'Allele1', 'Allele2', 'CD4', 'CD8', 'CD4CD8', 'CD21'])\n",
        "cds = df.iloc[:, 4:8].to_numpy()"
      ]
    },
    {
      "cell_type": "code",
      "source": [
        "print(df.head())\n",
        "print(df.iloc[0:5, 3].values)"
      ],
      "metadata": {
        "colab": {
          "base_uri": "https://localhost:8080/"
        },
        "id": "RfRzYkg6OICA",
        "outputId": "b3118245-23cf-4273-ff70-f3b4f8e6af06"
      },
      "execution_count": null,
      "outputs": [
        {
          "output_type": "stream",
          "name": "stdout",
          "text": [
            "   SN  SP Allele1 Allele2    CD4    CD8  CD4CD8   CD21\n",
            "0   0   1   *1201  *20012   8.96   9.83     0.9   7.53\n",
            "1   0   1   *0101   *0101  50.80  20.52     2.5   0.50\n",
            "2   1   0   *0601   *1101  31.20  38.40     0.8   5.04\n",
            "3   0   1   *1101   *1802  15.59  20.90     0.7  14.57\n",
            "4   1   0   *1201   *2704  49.95  16.36     3.1   7.25\n",
            "['*20012' '*0101' '*1101' '*1802' '*2704']\n"
          ]
        }
      ]
    },
    {
      "cell_type": "code",
      "source": [
        "plt.figure('Raw data')\n",
        "plt.boxplot(cds, notch = 'True', labels = ['CD4', 'CD8', 'CD4/CD', 'CD21'])\n",
        "plt.title('Raw data', color = 'white', backgroundcolor = 'green')"
      ],
      "metadata": {
        "id": "sOdTOG5cMBDT",
        "colab": {
          "base_uri": "https://localhost:8080/",
          "height": 469
        },
        "outputId": "912e09f8-0d5b-41de-d06a-0054829af411"
      },
      "execution_count": null,
      "outputs": [
        {
          "output_type": "execute_result",
          "data": {
            "text/plain": [
              "Text(0.5, 1.0, 'Raw data')"
            ]
          },
          "metadata": {},
          "execution_count": 6
        },
        {
          "output_type": "display_data",
          "data": {
            "text/plain": [
              "<Figure size 640x480 with 1 Axes>"
            ],
            "image/png": "[encoded data removed]"
          },
          "metadata": {}
        }
      ]
    },
    {
      "cell_type": "code",
      "execution_count": null,
      "metadata": {
        "id": "L6S4KJKSwSXe"
      },
      "outputs": [],
      "source": [
        "df_minmax = df.copy()\n",
        "scaler = preprocessing.MinMaxScaler()\n",
        "df_minmax.iloc[:,4:8] = scaler.fit_transform(df_minmax.iloc[:,4:8].to_numpy())"
      ]
    },
    {
      "cell_type": "code",
      "source": [
        "plt.figure('Scaled-MinMax')\n",
        "plt.boxplot(df_minmax.iloc[:,4:8], notch = 'True', labels = ['CD4', 'CD8', 'CD4/CD', 'CD21'])\n",
        "plt.title('Scaled-MinMax', color = 'white', backgroundcolor = 'green')"
      ],
      "metadata": {
        "id": "nUr5RWwJQODO"
      },
      "execution_count": null,
      "outputs": []
    },
    {
      "cell_type": "code",
      "source": [
        "df_maxabs = df.copy()\n",
        "scaler = preprocessing.MaxAbsScaler()\n",
        "df_maxabs.iloc[:,4:8] = scaler.fit_transform(df_maxabs.iloc[:,4:8].to_numpy())"
      ],
      "metadata": {
        "id": "g2krEsJcY_EQ"
      },
      "execution_count": null,
      "outputs": []
    },
    {
      "cell_type": "code",
      "source": [
        "plt.figure('Scaled-MaxAbs')\n",
        "plt.boxplot(df_maxabs.iloc[:,4:8], notch = 'True', labels = ['CD4', 'CD8', 'CD4/CD', 'CD21'])\n",
        "plt.title('Scaled-MaxAbs', color = 'white', backgroundcolor = 'green')"
      ],
      "metadata": {
        "id": "_yQOciZ_ZJXf"
      },
      "execution_count": null,
      "outputs": []
    },
    {
      "cell_type": "code",
      "source": [
        "df_standard = df.copy()\n",
        "scaler = preprocessing.StandardScaler()\n",
        "df_standard.iloc[:,4:8] = scaler.fit_transform(df_standard.iloc[:,4:8].to_numpy())"
      ],
      "metadata": {
        "id": "ebbeJHkFYnxz"
      },
      "execution_count": null,
      "outputs": []
    },
    {
      "cell_type": "code",
      "source": [
        "plt.figure('Scaled-Standard')\n",
        "ax = plt.boxplot(df_standard.iloc[:,4:8], notch = 'True', labels = ['CD4', 'CD8', 'CD4/CD', 'CD21'])\n",
        "plt.title('Scaled-Standard', color = 'white', backgroundcolor = 'green')"
      ],
      "metadata": {
        "id": "HkkdbXwxZKFg"
      },
      "execution_count": null,
      "outputs": []
    },
    {
      "cell_type": "code",
      "source": [
        "df_robust = df.copy()\n",
        "scaler = preprocessing.RobustScaler()\n",
        "df_robust.iloc[:,4:8] = scaler.fit_transform(df_robust.iloc[:,4:8].to_numpy())"
      ],
      "metadata": {
        "id": "PDeUzvtZYz-J"
      },
      "execution_count": null,
      "outputs": []
    },
    {
      "cell_type": "code",
      "source": [
        "plt.figure('Scaled-Robust')\n",
        "plt.boxplot(df_robust.iloc[:,4:8], notch = 'True', labels = ['CD4', 'CD8', 'CD4/CD', 'CD21'])\n",
        "plt.title('Scaled-Robust', color = 'white', backgroundcolor = 'green')"
      ],
      "metadata": {
        "id": "PaF_UpYiZKph",
        "colab": {
          "base_uri": "https://localhost:8080/",
          "height": 469
        },
        "outputId": "793755d1-869a-4afb-a50a-4e2987fb330a"
      },
      "execution_count": null,
      "outputs": [
        {
          "output_type": "execute_result",
          "data": {
            "text/plain": [
              "Text(0.5, 1.0, 'Scaled-Robust')"
            ]
          },
          "metadata": {},
          "execution_count": 8
        },
        {
          "output_type": "display_data",
          "data": {
            "text/plain": [
              "<Figure size 640x480 with 1 Axes>"
            ],
            "image/png": "[encoded data removed]"
          },
          "metadata": {}
        }
      ]
    },
    {
      "cell_type": "code",
      "source": [
        "# df_chosen = df.copy()\n",
        "# df_chosen = df_minmax.copy()\n",
        "# df_chosen = df_maxabs.copy()\n",
        "# df_chosen = df_standard.copy()\n",
        "df_chosen = df_robust.copy()"
      ],
      "metadata": {
        "id": "FxG6kDVwZbHI"
      },
      "execution_count": null,
      "outputs": []
    },
    {
      "cell_type": "code",
      "execution_count": null,
      "metadata": {
        "id": "TJD3VFlqVi0e"
      },
      "outputs": [],
      "source": [
        "df_chosen = df_chosen.join(\n",
        "  pd.get_dummies(df_chosen.filter(like='Allele').stack())\n",
        "    .groupby(level=0).max()\n",
        "  ).drop(['Allele1', 'Allele2'], axis=1)"
      ]
    },
    {
      "cell_type": "code",
      "execution_count": null,
      "metadata": {
        "id": "W9EIkgJ2WfTI",
        "colab": {
          "base_uri": "https://localhost:8080/",
          "height": 424
        },
        "outputId": "8000b5ae-757f-40ba-f925-c72932f1b8e2"
      },
      "outputs": [
        {
          "output_type": "execute_result",
          "data": {
            "text/plain": [
              "     SN  SP       CD4       CD8    CD4CD8      CD21  *0101  *0201  *0301  \\\n",
              "0     0   1 -2.308367 -1.287911 -0.555556  0.482569      0      0      0   \n",
              "1     0   1  1.025498 -0.540881  1.222222 -0.807339      1      0      0   \n",
              "2     1   0 -0.536255  0.708595 -0.666667  0.025688      0      0      0   \n",
              "3     0   1 -1.780080 -0.514326 -0.777778  1.774312      0      0      0   \n",
              "4     1   0  0.957769 -0.831586  1.888889  0.431193      0      0      0   \n",
              "..   ..  ..       ...       ...       ...       ...    ...    ...    ...   \n",
              "116   1   0  0.042231 -0.517820  0.444444  1.170642      1      0      0   \n",
              "117   1   0  0.019920 -0.502446  0.444444  0.497248      0      0      0   \n",
              "118   1   0 -0.781673  0.037037 -0.444444  1.104587      0      0      0   \n",
              "119   0   1 -1.201594  1.043326 -1.000000  1.790826      0      0      0   \n",
              "120   1   0 -0.023904 -0.575821  0.555556  0.882569      0      0      0   \n",
              "\n",
              "     *0303  ...  *2709  *3001  *3201  *3202  *3401  *3501  *4201  *4301  \\\n",
              "0        0  ...      0      0      0      0      0      0      0      0   \n",
              "1        0  ...      0      0      0      0      0      0      0      0   \n",
              "2        0  ...      0      0      0      0      0      0      0      0   \n",
              "3        0  ...      0      0      0      0      0      0      0      0   \n",
              "4        0  ...      0      0      0      0      0      0      0      0   \n",
              "..     ...  ...    ...    ...    ...    ...    ...    ...    ...    ...   \n",
              "116      0  ...      0      0      0      0      0      0      0      0   \n",
              "117      0  ...      0      0      0      0      0      0      0      0   \n",
              "118      0  ...      0      0      0      0      0      0      0      0   \n",
              "119      0  ...      0      0      0      0      0      0      0      0   \n",
              "120      0  ...      0      0      0      0      0      0      0      0   \n",
              "\n",
              "     *6801  *6901  \n",
              "0        0      0  \n",
              "1        0      0  \n",
              "2        0      0  \n",
              "3        0      0  \n",
              "4        0      0  \n",
              "..     ...    ...  \n",
              "116      0      0  \n",
              "117      0      0  \n",
              "118      0      0  \n",
              "119      0      0  \n",
              "120      0      0  \n",
              "\n",
              "[121 rows x 42 columns]"
            ],
            "text/html": [
              "\n",
              "\n",
              "  <div id=\"df-a7147ecd-6c68-4e1d-964a-8a12f0a21085\">\n",
              "    <div class=\"colab-df-container\">\n",
              "      <div>\n",
              "<style scoped>\n",
              "    .dataframe tbody tr th:only-of-type {\n",
              "        vertical-align: middle;\n",
              "    }\n",
              "\n",
              "    .dataframe tbody tr th {\n",
              "        vertical-align: top;\n",
              "    }\n",
              "\n",
              "    .dataframe thead th {\n",
              "        text-align: right;\n",
              "    }\n",
              "</style>\n",
              "<table border=\"1\" class=\"dataframe\">\n",
              "  <thead>\n",
              "    <tr style=\"text-align: right;\">\n",
              "      <th></th>\n",
              "      <th>SN</th>\n",
              "      <th>SP</th>\n",
              "      <th>CD4</th>\n",
              "      <th>CD8</th>\n",
              "      <th>CD4CD8</th>\n",
              "      <th>CD21</th>\n",
              "      <th>*0101</th>\n",
              "      <th>*0201</th>\n",
              "      <th>*0301</th>\n",
              "      <th>*0303</th>\n",
              "      <th>...</th>\n",
              "      <th>*2709</th>\n",
              "      <th>*3001</th>\n",
              "      <th>*3201</th>\n",
              "      <th>*3202</th>\n",
              "      <th>*3401</th>\n",
              "      <th>*3501</th>\n",
              "      <th>*4201</th>\n",
              "      <th>*4301</th>\n",
              "      <th>*6801</th>\n",
              "      <th>*6901</th>\n",
              "    </tr>\n",
              "  </thead>\n",
              "  <tbody>\n",
              "    <tr>\n",
              "      <th>0</th>\n",
              "      <td>0</td>\n",
              "      <td>1</td>\n",
              "      <td>-2.308367</td>\n",
              "      <td>-1.287911</td>\n",
              "      <td>-0.555556</td>\n",
              "      <td>0.482569</td>\n",
              "      <td>0</td>\n",
              "      <td>0</td>\n",
              "      <td>0</td>\n",
              "      <td>0</td>\n",
              "      <td>...</td>\n",
              "      <td>0</td>\n",
              "      <td>0</td>\n",
              "      <td>0</td>\n",
              "      <td>0</td>\n",
              "      <td>0</td>\n",
              "      <td>0</td>\n",
              "      <td>0</td>\n",
              "      <td>0</td>\n",
              "      <td>0</td>\n",
              "      <td>0</td>\n",
              "    </tr>\n",
              "    <tr>\n",
              "      <th>1</th>\n",
              "      <td>0</td>\n",
              "      <td>1</td>\n",
              "      <td>1.025498</td>\n",
              "      <td>-0.540881</td>\n",
              "      <td>1.222222</td>\n",
              "      <td>-0.807339</td>\n",
              "      <td>1</td>\n",
              "      <td>0</td>\n",
              "      <td>0</td>\n",
              "      <td>0</td>\n",
              "      <td>...</td>\n",
              "      <td>0</td>\n",
              "      <td>0</td>\n",
              "      <td>0</td>\n",
              "      <td>0</td>\n",
              "      <td>0</td>\n",
              "      <td>0</td>\n",
              "      <td>0</td>\n",
              "      <td>0</td>\n",
              "      <td>0</td>\n",
              "      <td>0</td>\n",
              "    </tr>\n",
              "    <tr>\n",
              "      <th>2</th>\n",
              "      <td>1</td>\n",
              "      <td>0</td>\n",
              "      <td>-0.536255</td>\n",
              "      <td>0.708595</td>\n",
              "      <td>-0.666667</td>\n",
              "      <td>0.025688</td>\n",
              "      <td>0</td>\n",
              "      <td>0</td>\n",
              "      <td>0</td>\n",
              "      <td>0</td>\n",
              "      <td>...</td>\n",
              "      <td>0</td>\n",
              "      <td>0</td>\n",
              "      <td>0</td>\n",
              "      <td>0</td>\n",
              "      <td>0</td>\n",
              "      <td>0</td>\n",
              "      <td>0</td>\n",
              "      <td>0</td>\n",
              "      <td>0</td>\n",
              "      <td>0</td>\n",
              "    </tr>\n",
              "    <tr>\n",
              "      <th>3</th>\n",
              "      <td>0</td>\n",
              "      <td>1</td>\n",
              "      <td>-1.780080</td>\n",
              "      <td>-0.514326</td>\n",
              "      <td>-0.777778</td>\n",
              "      <td>1.774312</td>\n",
              "      <td>0</td>\n",
              "      <td>0</td>\n",
              "      <td>0</td>\n",
              "      <td>0</td>\n",
              "      <td>...</td>\n",
              "      <td>0</td>\n",
              "      <td>0</td>\n",
              "      <td>0</td>\n",
              "      <td>0</td>\n",
              "      <td>0</td>\n",
              "      <td>0</td>\n",
              "      <td>0</td>\n",
              "      <td>0</td>\n",
              "      <td>0</td>\n",
              "      <td>0</td>\n",
              "    </tr>\n",
              "    <tr>\n",
              "      <th>4</th>\n",
              "      <td>1</td>\n",
              "      <td>0</td>\n",
              "      <td>0.957769</td>\n",
              "      <td>-0.831586</td>\n",
              "      <td>1.888889</td>\n",
              "      <td>0.431193</td>\n",
              "      <td>0</td>\n",
              "      <td>0</td>\n",
              "      <td>0</td>\n",
              "      <td>0</td>\n",
              "      <td>...</td>\n",
              "      <td>0</td>\n",
              "      <td>0</td>\n",
              "      <td>0</td>\n",
              "      <td>0</td>\n",
              "      <td>0</td>\n",
              "      <td>0</td>\n",
              "      <td>0</td>\n",
              "      <td>0</td>\n",
              "      <td>0</td>\n",
              "      <td>0</td>\n",
              "    </tr>\n",
              "    <tr>\n",
              "      <th>...</th>\n",
              "      <td>...</td>\n",
              "      <td>...</td>\n",
              "      <td>...</td>\n",
              "      <td>...</td>\n",
              "      <td>...</td>\n",
              "      <td>...</td>\n",
              "      <td>...</td>\n",
              "      <td>...</td>\n",
              "      <td>...</td>\n",
              "      <td>...</td>\n",
              "      <td>...</td>\n",
              "      <td>...</td>\n",
              "      <td>...</td>\n",
              "      <td>...</td>\n",
              "      <td>...</td>\n",
              "      <td>...</td>\n",
              "      <td>...</td>\n",
              "      <td>...</td>\n",
              "      <td>...</td>\n",
              "      <td>...</td>\n",
              "      <td>...</td>\n",
              "    </tr>\n",
              "    <tr>\n",
              "      <th>116</th>\n",
              "      <td>1</td>\n",
              "      <td>0</td>\n",
              "      <td>0.042231</td>\n",
              "      <td>-0.517820</td>\n",
              "      <td>0.444444</td>\n",
              "      <td>1.170642</td>\n",
              "      <td>1</td>\n",
              "      <td>0</td>\n",
              "      <td>0</td>\n",
              "      <td>0</td>\n",
              "      <td>...</td>\n",
              "      <td>0</td>\n",
              "      <td>0</td>\n",
              "      <td>0</td>\n",
              "      <td>0</td>\n",
              "      <td>0</td>\n",
              "      <td>0</td>\n",
              "      <td>0</td>\n",
              "      <td>0</td>\n",
              "      <td>0</td>\n",
              "      <td>0</td>\n",
              "    </tr>\n",
              "    <tr>\n",
              "      <th>117</th>\n",
              "      <td>1</td>\n",
              "      <td>0</td>\n",
              "      <td>0.019920</td>\n",
              "      <td>-0.502446</td>\n",
              "      <td>0.444444</td>\n",
              "      <td>0.497248</td>\n",
              "      <td>0</td>\n",
              "      <td>0</td>\n",
              "      <td>0</td>\n",
              "      <td>0</td>\n",
              "      <td>...</td>\n",
              "      <td>0</td>\n",
              "      <td>0</td>\n",
              "      <td>0</td>\n",
              "      <td>0</td>\n",
              "      <td>0</td>\n",
              "      <td>0</td>\n",
              "      <td>0</td>\n",
              "      <td>0</td>\n",
              "      <td>0</td>\n",
              "      <td>0</td>\n",
              "    </tr>\n",
              "    <tr>\n",
              "      <th>118</th>\n",
              "      <td>1</td>\n",
              "      <td>0</td>\n",
              "      <td>-0.781673</td>\n",
              "      <td>0.037037</td>\n",
              "      <td>-0.444444</td>\n",
              "      <td>1.104587</td>\n",
              "      <td>0</td>\n",
              "      <td>0</td>\n",
              "      <td>0</td>\n",
              "      <td>0</td>\n",
              "      <td>...</td>\n",
              "      <td>0</td>\n",
              "      <td>0</td>\n",
              "      <td>0</td>\n",
              "      <td>0</td>\n",
              "      <td>0</td>\n",
              "      <td>0</td>\n",
              "      <td>0</td>\n",
              "      <td>0</td>\n",
              "      <td>0</td>\n",
              "      <td>0</td>\n",
              "    </tr>\n",
              "    <tr>\n",
              "      <th>119</th>\n",
              "      <td>0</td>\n",
              "      <td>1</td>\n",
              "      <td>-1.201594</td>\n",
              "      <td>1.043326</td>\n",
              "      <td>-1.000000</td>\n",
              "      <td>1.790826</td>\n",
              "      <td>0</td>\n",
              "      <td>0</td>\n",
              "      <td>0</td>\n",
              "      <td>0</td>\n",
              "      <td>...</td>\n",
              "      <td>0</td>\n",
              "      <td>0</td>\n",
              "      <td>0</td>\n",
              "      <td>0</td>\n",
              "      <td>0</td>\n",
              "      <td>0</td>\n",
              "      <td>0</td>\n",
              "      <td>0</td>\n",
              "      <td>0</td>\n",
              "      <td>0</td>\n",
              "    </tr>\n",
              "    <tr>\n",
              "      <th>120</th>\n",
              "      <td>1</td>\n",
              "      <td>0</td>\n",
              "      <td>-0.023904</td>\n",
              "      <td>-0.575821</td>\n",
              "      <td>0.555556</td>\n",
              "      <td>0.882569</td>\n",
              "      <td>0</td>\n",
              "      <td>0</td>\n",
              "      <td>0</td>\n",
              "      <td>0</td>\n",
              "      <td>...</td>\n",
              "      <td>0</td>\n",
              "      <td>0</td>\n",
              "      <td>0</td>\n",
              "      <td>0</td>\n",
              "      <td>0</td>\n",
              "      <td>0</td>\n",
              "      <td>0</td>\n",
              "      <td>0</td>\n",
              "      <td>0</td>\n",
              "      <td>0</td>\n",
              "    </tr>\n",
              "  </tbody>\n",
              "</table>\n",
              "<p>121 rows × 42 columns</p>\n",
              "</div>\n",
              "      <button class=\"colab-df-convert\" onclick=\"convertToInteractive('df-a7147ecd-6c68-4e1d-964a-8a12f0a21085')\"\n",
              "              title=\"Convert this dataframe to an interactive table.\"\n",
              "              style=\"display:none;\">\n",
              "\n",
              "  <svg xmlns=\"http://www.w3.org/2000/svg\" height=\"24px\"viewBox=\"0 0 24 24\"\n",
              "       width=\"24px\">\n",
              "    <path d=\"M0 0h24v24H0V0z\" fill=\"none\"/>\n",
              "    <path d=\"M18.56 5.44l.94 2.06.94-2.06 2.06-.94-2.06-.94-.94-2.06-.94 2.06-2.06.94zm-11 1L8.5 8.5l.94-2.06 2.06-.94-2.06-.94L8.5 2.5l-.94 2.06-2.06.94zm10 10l.94 2.06.94-2.06 2.06-.94-2.06-.94-.94-2.06-.94 2.06-2.06.94z\"/><path d=\"M17.41 7.96l-1.37-1.37c-.4-.4-.92-.59-1.43-.59-.52 0-1.04.2-1.43.59L10.3 9.45l-7.72 7.72c-.78.78-.78 2.05 0 2.83L4 21.41c.39.39.9.59 1.41.59.51 0 1.02-.2 1.41-.59l7.78-7.78 2.81-2.81c.8-.78.8-2.07 0-2.86zM5.41 20L4 18.59l7.72-7.72 1.47 1.35L5.41 20z\"/>\n",
              "  </svg>\n",
              "      </button>\n",
              "\n",
              "\n",
              "\n",
              "    <div id=\"df-5df53c6a-256e-4699-a1f2-eec88489b575\">\n",
              "      <button class=\"colab-df-quickchart\" onclick=\"quickchart('df-5df53c6a-256e-4699-a1f2-eec88489b575')\"\n",
              "              title=\"Suggest charts.\"\n",
              "              style=\"display:none;\">\n",
              "\n",
              "<svg xmlns=\"http://www.w3.org/2000/svg\" height=\"24px\"viewBox=\"0 0 24 24\"\n",
              "     width=\"24px\">\n",
              "    <g>\n",
              "        <path d=\"M19 3H5c-1.1 0-2 .9-2 2v14c0 1.1.9 2 2 2h14c1.1 0 2-.9 2-2V5c0-1.1-.9-2-2-2zM9 17H7v-7h2v7zm4 0h-2V7h2v10zm4 0h-2v-4h2v4z\"/>\n",
              "    </g>\n",
              "</svg>\n",
              "      </button>\n",
              "    </div>\n",
              "\n",
              "<style>\n",
              "  .colab-df-quickchart {\n",
              "    background-color: #E8F0FE;\n",
              "    border: none;\n",
              "    border-radius: 50%;\n",
              "    cursor: pointer;\n",
              "    display: none;\n",
              "    fill: #1967D2;\n",
              "    height: 32px;\n",
              "    padding: 0 0 0 0;\n",
              "    width: 32px;\n",
              "  }\n",
              "\n",
              "  .colab-df-quickchart:hover {\n",
              "    background-color: #E2EBFA;\n",
              "    box-shadow: 0px 1px 2px rgba(60, 64, 67, 0.3), 0px 1px 3px 1px rgba(60, 64, 67, 0.15);\n",
              "    fill: #174EA6;\n",
              "  }\n",
              "\n",
              "  [theme=dark] .colab-df-quickchart {\n",
              "    background-color: #3B4455;\n",
              "    fill: #D2E3FC;\n",
              "  }\n",
              "\n",
              "  [theme=dark] .colab-df-quickchart:hover {\n",
              "    background-color: #434B5C;\n",
              "    box-shadow: 0px 1px 3px 1px rgba(0, 0, 0, 0.15);\n",
              "    filter: drop-shadow(0px 1px 2px rgba(0, 0, 0, 0.3));\n",
              "    fill: #FFFFFF;\n",
              "  }\n",
              "</style>\n",
              "\n",
              "    <script>\n",
              "      async function quickchart(key) {\n",
              "        const containerElement = document.querySelector('#' + key);\n",
              "        const charts = await google.colab.kernel.invokeFunction(\n",
              "            'suggestCharts', [key], {});\n",
              "      }\n",
              "    </script>\n",
              "\n",
              "      <script>\n",
              "\n",
              "function displayQuickchartButton(domScope) {\n",
              "  let quickchartButtonEl =\n",
              "    domScope.querySelector('#df-5df53c6a-256e-4699-a1f2-eec88489b575 button.colab-df-quickchart');\n",
              "  quickchartButtonEl.style.display =\n",
              "    google.colab.kernel.accessAllowed ? 'block' : 'none';\n",
              "}\n",
              "\n",
              "        displayQuickchartButton(document);\n",
              "      </script>\n",
              "      <style>\n",
              "    .colab-df-container {\n",
              "      display:flex;\n",
              "      flex-wrap:wrap;\n",
              "      gap: 12px;\n",
              "    }\n",
              "\n",
              "    .colab-df-convert {\n",
              "      background-color: #E8F0FE;\n",
              "      border: none;\n",
              "      border-radius: 50%;\n",
              "      cursor: pointer;\n",
              "      display: none;\n",
              "      fill: #1967D2;\n",
              "      height: 32px;\n",
              "      padding: 0 0 0 0;\n",
              "      width: 32px;\n",
              "    }\n",
              "\n",
              "    .colab-df-convert:hover {\n",
              "      background-color: #E2EBFA;\n",
              "      box-shadow: 0px 1px 2px rgba(60, 64, 67, 0.3), 0px 1px 3px 1px rgba(60, 64, 67, 0.15);\n",
              "      fill: #174EA6;\n",
              "    }\n",
              "\n",
              "    [theme=dark] .colab-df-convert {\n",
              "      background-color: #3B4455;\n",
              "      fill: #D2E3FC;\n",
              "    }\n",
              "\n",
              "    [theme=dark] .colab-df-convert:hover {\n",
              "      background-color: #434B5C;\n",
              "      box-shadow: 0px 1px 3px 1px rgba(0, 0, 0, 0.15);\n",
              "      filter: drop-shadow(0px 1px 2px rgba(0, 0, 0, 0.3));\n",
              "      fill: #FFFFFF;\n",
              "    }\n",
              "  </style>\n",
              "\n",
              "      <script>\n",
              "        const buttonEl =\n",
              "          document.querySelector('#df-a7147ecd-6c68-4e1d-964a-8a12f0a21085 button.colab-df-convert');\n",
              "        buttonEl.style.display =\n",
              "          google.colab.kernel.accessAllowed ? 'block' : 'none';\n",
              "\n",
              "        async function convertToInteractive(key) {\n",
              "          const element = document.querySelector('#df-a7147ecd-6c68-4e1d-964a-8a12f0a21085');\n",
              "          const dataTable =\n",
              "            await google.colab.kernel.invokeFunction('convertToInteractive',\n",
              "                                                     [key], {});\n",
              "          if (!dataTable) return;\n",
              "\n",
              "          const docLinkHtml = 'Like what you see? Visit the ' +\n",
              "            '<a target=\"_blank\" href=https://colab.research.google.com/notebooks/data_table.ipynb>data table notebook</a>'\n",
              "            + ' to learn more about interactive tables.';\n",
              "          element.innerHTML = '';\n",
              "          dataTable['output_type'] = 'display_data';\n",
              "          await google.colab.output.renderOutput(dataTable, element);\n",
              "          const docLink = document.createElement('div');\n",
              "          docLink.innerHTML = docLinkHtml;\n",
              "          element.appendChild(docLink);\n",
              "        }\n",
              "      </script>\n",
              "    </div>\n",
              "  </div>\n"
            ]
          },
          "metadata": {},
          "execution_count": 11
        }
      ],
      "source": [
        "df_chosen"
      ]
    },
    {
      "cell_type": "code",
      "source": [
        "mismatch = (df_chosen.iloc[:, 0].values != df_chosen.iloc[:, 1].values)\n",
        "print(sum(mismatch))"
      ],
      "metadata": {
        "colab": {
          "base_uri": "https://localhost:8080/"
        },
        "id": "ZdrSKp4jByr6",
        "outputId": "5993971d-9374-4c40-ab3c-54fbc68f9249"
      },
      "execution_count": null,
      "outputs": [
        {
          "output_type": "stream",
          "name": "stdout",
          "text": [
            "121\n"
          ]
        }
      ]
    },
    {
      "cell_type": "code",
      "execution_count": null,
      "metadata": {
        "id": "L7yFwGJW30CR"
      },
      "outputs": [],
      "source": [
        "X = df_chosen.iloc[:, 2:].values\n",
        "Y = df_chosen.iloc[:, 1].values\n",
        "\n",
        "x_train, x_test, y_train, y_test = train_test_split(X, Y,  test_size=0.2, random_state=42)\n",
        "\n",
        "x_train_n = torch.FloatTensor(x_train[:, :4])\n",
        "x_train_c = torch.FloatTensor(x_train[:, 4:])\n",
        "y_train = torch.FloatTensor(y_train)\n",
        "x_test_n = torch.FloatTensor(x_test[:, :4])\n",
        "x_test_c = torch.FloatTensor(x_test[:, 4:])\n",
        "y_test = torch.FloatTensor(y_test)"
      ]
    },
    {
      "cell_type": "code",
      "source": [
        "print(y_test.shape)\n",
        "print(torch.sum(y_test))\n",
        "print(y_train.shape)\n",
        "print(x_train_n.shape)\n",
        "print(x_train_c.shape)"
      ],
      "metadata": {
        "colab": {
          "base_uri": "https://localhost:8080/"
        },
        "id": "YBFcq9dX_8mF",
        "outputId": "98353f0c-5193-4be2-eebd-1969af7aeb54"
      },
      "execution_count": null,
      "outputs": [
        {
          "output_type": "stream",
          "name": "stdout",
          "text": [
            "torch.Size([25])\n",
            "tensor(5.)\n",
            "torch.Size([96])\n",
            "torch.Size([96, 4])\n",
            "torch.Size([96, 36])\n"
          ]
        }
      ]
    },
    {
      "cell_type": "code",
      "execution_count": null,
      "metadata": {
        "id": "xs5HS3icyxcl"
      },
      "outputs": [],
      "source": [
        "class NeuralNetMerged(nn.Module):\n",
        "    def __init__(self, in_features_num=4, in_features_cat=36, out_features=1):\n",
        "        super().__init__()\n",
        "        self.fc1 = nn.Linear(in_features=in_features_num,\n",
        "                             out_features=12)\n",
        "        self.act1 = nn.ReLU()\n",
        "        self.dropout1 = nn.Dropout(0.2)\n",
        "        self.fc2 = nn.Linear(in_features=in_features_cat,\n",
        "                             out_features=18)\n",
        "        self.act2 = nn.ReLU()\n",
        "        self.dropout2 = nn.Dropout(0.2)\n",
        "        self.fc3 = nn.Linear(in_features=30,\n",
        "                             out_features=out_features)\n",
        "\n",
        "\n",
        "    def forward(self, X_num, X_cat):\n",
        "        X_num = self.act1(self.fc1(X_num))\n",
        "        X_num = self.dropout1(X_num)\n",
        "        X_cat = self.act2(self.fc2(X_cat))\n",
        "        X_cat = self.dropout1(X_cat)\n",
        "        X = torch.cat((X_num, X_cat), dim = 1)\n",
        "        X = F.sigmoid(self.fc3(X))\n",
        "        return X"
      ]
    },
    {
      "cell_type": "code",
      "source": [
        "class ModelHandler2():\n",
        "  def __init__(self, model, epochs, learning_rate):\n",
        "    self.model = model\n",
        "    self.epochs = epochs\n",
        "    # self.criterion =  nn.CrossEntropyLoss()\n",
        "    # self.criterion =  nn.BCELoss()\n",
        "    self.criterion =  nn.MSELoss()\n",
        "    self.optimizer = torch.optim.Adam(model.parameters(), lr=learning_rate)\n",
        "\n",
        "\n",
        "  def train(self, x_train_n, x_train_c, y_train):\n",
        "    losses = torch.zeros((self.epochs, 1))\n",
        "    correct, total = 0, 0\n",
        "    y_pred_vec = torch.zeros((self.epochs, y_train.shape[0]))\n",
        "    for i in tqdm(range(self.epochs)):\n",
        "      y_pred = self.model(x_train_n, x_train_c)\n",
        "      y_pred = torch.squeeze(y_pred)\n",
        "      self.optimizer.zero_grad()\n",
        "      loss = self.criterion(y_pred, y_train)\n",
        "      losses[i] = loss\n",
        "      loss.backward()\n",
        "      self.optimizer.step()\n",
        "      # print(y_pred.shape)\n",
        "      # print(y_pred_vec.shape)\n",
        "      y_pred_vec[i, :] = y_pred\n",
        "      predicted = torch.round(y_pred)\n",
        "    return losses, predicted, y_pred_vec\n",
        "\n",
        "\n",
        "  def test(self, x_test_n, x_test_c, y_test):\n",
        "    self.model.eval()\n",
        "    with torch.no_grad():\n",
        "      y_pred = self.model(x_test_n, x_test_c)\n",
        "      y_pred = torch.squeeze(y_pred)\n",
        "      predicted = torch.round(y_pred)\n",
        "    return predicted, y_pred\n",
        "\n",
        "  def metricCalculator(self, y_true, y_hat):\n",
        "      acc = accuracy_score(y_true, y_hat)\n",
        "      pr, rec, f1, _ = precision_recall_fscore_support(y_true, y_hat, average = 'binary')\n",
        "      print(rec.shape)\n",
        "      return acc, pr, rec, f1"
      ],
      "metadata": {
        "id": "p9rJbnrU6ieh"
      },
      "execution_count": null,
      "outputs": []
    },
    {
      "cell_type": "code",
      "execution_count": null,
      "metadata": {
        "id": "qCbFa_boGMkA"
      },
      "outputs": [],
      "source": [
        "def plot_loss_metrics(train_loss, train_acc, train_pr, train_rec, train_f1):\n",
        "  epochs = len(train_loss)\n",
        "  fig, (ax1, ax2, ax3, ax4, ax5) = plt.subplots(2, 3)\n",
        "  ax1.plot(np.arange(epochs), train_loss, label='Training Loss')\n",
        "  ax1.set_xlabel('Epochs')\n",
        "  ax1.set_ylabel('Loss')\n",
        "  ax1.set_title('Loss vs. Epochs')\n",
        "  ax1.legend()\n",
        "\n",
        "  ax2.plot(np.arange(epochs), train_acc, label='Training Accuracy')\n",
        "  ax2.set_xlabel('Epochs')\n",
        "  ax2.set_ylabel('Accuracy')\n",
        "  ax2.set_title('Accuracy vs. Epochs')\n",
        "  ax2.legend()\n",
        "  fig.set_size_inches(15.5, 5.5)\n",
        "\n",
        "  ax3.plot(np.arange(epochs), train_pr, label='Training Precision')\n",
        "  ax3.set_xlabel('Epochs')\n",
        "  ax3.set_ylabel('Precision')\n",
        "  ax3.set_title('Precision vs. Epochs')\n",
        "  ax3.legend()\n",
        "  fig.set_size_inches(15.5, 5.5)\n",
        "\n",
        "  ax4.plot(np.arange(epochs), train_rec, label='Training Recall')\n",
        "  ax4.set_xlabel('Epochs')\n",
        "  ax4.set_ylabel('Recall')\n",
        "  ax4.set_title('Recall vs. Epochs')\n",
        "  ax4.legend()\n",
        "  fig.set_size_inches(15.5, 5.5)\n",
        "\n",
        "  ax5.plot(np.arange(epochs), train_f1, label='Training F1')\n",
        "  ax5.set_xlabel('Epochs')\n",
        "  ax5.set_ylabel('F1')\n",
        "  ax5.set_title('F1 vs. Epochs')\n",
        "  ax5.legend()\n",
        "  fig.set_size_inches(15.5, 5.5)\n",
        "\n",
        "  plt.show()"
      ]
    },
    {
      "cell_type": "code",
      "source": [
        "model2 = NeuralNetMerged(4, 36, 1)\n",
        "handler = ModelHandler2(model2, 400, 0.01)\n",
        "train_loss, predicted_vec, y_pred_vec = handler.train(x_train_n, x_train_c, y_train)\n",
        "train_acc, train_pr, train_rec, train_f1 = handler.metricCalculator(y_train.detach().numpy(), predicted_vec.detach().numpy())\n",
        "# print(train_acc[-1])"
      ],
      "metadata": {
        "id": "5iJ12xSO3hGO",
        "colab": {
          "base_uri": "https://localhost:8080/",
          "height": 66,
          "referenced_widgets": [
            "897e30d6d8f04871a36203ded1e396eb",
            "15177fb3078543c3b24ac02316c990bb",
            "45b65ce2d14149f790367efe62d12119",
            "7c9858cdcf8646ec88f4b45afa008ef0",
            "c0d093aa579241b5ae684ebdfbd46c13",
            "4b343a6d93184c0987aa8dddfdddc91f",
            "240bf064689b45e7ae4e7cc8c53effa6",
            "bf6f65da3657434a9317fc012b017602",
            "101a982494834b66995fa96af861eb88",
            "7fb53ad18157459db0ff45048f08e084",
            "2bf76101268c4e88b9bfdc20128234f9"
          ]
        },
        "outputId": "46bf3db6-bc4a-4719-f86e-b4b5c554463f"
      },
      "execution_count": null,
      "outputs": [
        {
          "output_type": "display_data",
          "data": {
            "text/plain": [
              "  0%|          | 0/400 [00:00<?, ?it/s]"
            ],
            "application/vnd.jupyter.widget-view+json": {
              "version_major": 2,
              "version_minor": 0,
              "model_id": "897e30d6d8f04871a36203ded1e396eb"
            }
          },
          "metadata": {}
        },
        {
          "output_type": "stream",
          "name": "stdout",
          "text": [
            "()\n"
          ]
        }
      ]
    },
    {
      "cell_type": "markdown",
      "source": [
        "Raw:\n",
        "\n",
        "avg of last 101: 0.7908333333333333\n",
        "\n",
        "final: 0.8020833333333334\n",
        "\n",
        "    [[17  3]\n",
        "     [ 2  3]]\n",
        "\n",
        "    (0.5, 0.6, 0.5454545454545454, None)\n",
        "\n",
        "\\\\\n",
        "Minmax:\n",
        "\n",
        "avg of last 101: 0.8665624999999999\n",
        "\n",
        "final: 0.8854166666666666\n",
        "\n",
        "    [[18    2]\n",
        "     [ 3    2 ]]\n",
        "\n",
        "    (0.5, 0.4, 0.4444444444444445, None)\n",
        "\\\\\n",
        "MaxAbs:\n",
        "\n",
        "avg of last 101: 0.7908333333333333\n",
        "\n",
        "final: 0.8020833333333334\n",
        "\n",
        "    [[20    0]\n",
        "     [ 4    1 ]]\n",
        "\n",
        "    (0.5, 0.4, 0.4444444444444445, None)\n",
        "\\\\\n",
        "Standard:\n",
        "\n",
        "avg of last 101: 0.7908333333333333\n",
        "\n",
        "final: 0.8020833333333334\n",
        "\n",
        "    [[15  5]\n",
        "     [ 2  3]]\n",
        "\n",
        "    (0.375, 0.6, 0.4615384615384615, None)\n",
        "\\\\\n",
        "Robust:\n",
        "\n",
        "avg of last 101: 0.7908333333333333\n",
        "\n",
        "final: 0.8020833333333334\n",
        "\n",
        "    [[18  2]\n",
        "     [ 2  3]]\n",
        "\n",
        "    (0.6, 0.6, 0.6, None)"
      ],
      "metadata": {
        "id": "2ZfgoD_raFLr"
      }
    },
    {
      "cell_type": "code",
      "execution_count": null,
      "metadata": {
        "colab": {
          "base_uri": "https://localhost:8080/",
          "height": 739
        },
        "id": "6gADsRM-Gafz",
        "outputId": "762d4486-66e6-4d64-aa8e-0156e6d79a30"
      },
      "outputs": [
        {
          "output_type": "error",
          "ename": "ValueError",
          "evalue": "ignored",
          "traceback": [
            "\u001b[0;31m---------------------------------------------------------------------------\u001b[0m",
            "\u001b[0;31mValueError\u001b[0m                                Traceback (most recent call last)",
            "\u001b[0;32m<ipython-input-19-088330254f89>\u001b[0m in \u001b[0;36m<cell line: 3>\u001b[0;34m()\u001b[0m\n\u001b[1;32m      1\u001b[0m \u001b[0;31m# print(np.mean(acc[-100:]))\u001b[0m\u001b[0;34m\u001b[0m\u001b[0;34m\u001b[0m\u001b[0m\n\u001b[1;32m      2\u001b[0m \u001b[0;31m# plot_loss_accuracy(torch.tensor(loss), acc)\u001b[0m\u001b[0;34m\u001b[0m\u001b[0;34m\u001b[0m\u001b[0m\n\u001b[0;32m----> 3\u001b[0;31m \u001b[0mplot_loss_metrics\u001b[0m\u001b[0;34m(\u001b[0m\u001b[0mtrain_loss\u001b[0m\u001b[0;34m,\u001b[0m \u001b[0mtrain_acc\u001b[0m\u001b[0;34m,\u001b[0m \u001b[0mtrain_pr\u001b[0m\u001b[0;34m,\u001b[0m \u001b[0mtrain_rec\u001b[0m\u001b[0;34m,\u001b[0m \u001b[0mtrain_f1\u001b[0m\u001b[0;34m)\u001b[0m\u001b[0;34m\u001b[0m\u001b[0;34m\u001b[0m\u001b[0m\n\u001b[0m",
            "\u001b[0;32m<ipython-input-17-77ee7ee6d24c>\u001b[0m in \u001b[0;36mplot_loss_metrics\u001b[0;34m(train_loss, train_acc, train_pr, train_rec, train_f1)\u001b[0m\n\u001b[1;32m      1\u001b[0m \u001b[0;32mdef\u001b[0m \u001b[0mplot_loss_metrics\u001b[0m\u001b[0;34m(\u001b[0m\u001b[0mtrain_loss\u001b[0m\u001b[0;34m,\u001b[0m \u001b[0mtrain_acc\u001b[0m\u001b[0;34m,\u001b[0m \u001b[0mtrain_pr\u001b[0m\u001b[0;34m,\u001b[0m \u001b[0mtrain_rec\u001b[0m\u001b[0;34m,\u001b[0m \u001b[0mtrain_f1\u001b[0m\u001b[0;34m)\u001b[0m\u001b[0;34m:\u001b[0m\u001b[0;34m\u001b[0m\u001b[0;34m\u001b[0m\u001b[0m\n\u001b[1;32m      2\u001b[0m   \u001b[0mepochs\u001b[0m \u001b[0;34m=\u001b[0m \u001b[0mlen\u001b[0m\u001b[0;34m(\u001b[0m\u001b[0mtrain_loss\u001b[0m\u001b[0;34m)\u001b[0m\u001b[0;34m\u001b[0m\u001b[0;34m\u001b[0m\u001b[0m\n\u001b[0;32m----> 3\u001b[0;31m   \u001b[0mfig\u001b[0m\u001b[0;34m,\u001b[0m \u001b[0;34m(\u001b[0m\u001b[0max1\u001b[0m\u001b[0;34m,\u001b[0m \u001b[0max2\u001b[0m\u001b[0;34m,\u001b[0m \u001b[0max3\u001b[0m\u001b[0;34m,\u001b[0m \u001b[0max4\u001b[0m\u001b[0;34m,\u001b[0m \u001b[0max5\u001b[0m\u001b[0;34m)\u001b[0m \u001b[0;34m=\u001b[0m \u001b[0mplt\u001b[0m\u001b[0;34m.\u001b[0m\u001b[0msubplots\u001b[0m\u001b[0;34m(\u001b[0m\u001b[0;36m2\u001b[0m\u001b[0;34m,\u001b[0m \u001b[0;36m3\u001b[0m\u001b[0;34m)\u001b[0m\u001b[0;34m\u001b[0m\u001b[0;34m\u001b[0m\u001b[0m\n\u001b[0m\u001b[1;32m      4\u001b[0m   \u001b[0max1\u001b[0m\u001b[0;34m.\u001b[0m\u001b[0mplot\u001b[0m\u001b[0;34m(\u001b[0m\u001b[0mnp\u001b[0m\u001b[0;34m.\u001b[0m\u001b[0marange\u001b[0m\u001b[0;34m(\u001b[0m\u001b[0mepochs\u001b[0m\u001b[0;34m)\u001b[0m\u001b[0;34m,\u001b[0m \u001b[0mtrain_loss\u001b[0m\u001b[0;34m,\u001b[0m \u001b[0mlabel\u001b[0m\u001b[0;34m=\u001b[0m\u001b[0;34m'Training Loss'\u001b[0m\u001b[0;34m)\u001b[0m\u001b[0;34m\u001b[0m\u001b[0;34m\u001b[0m\u001b[0m\n\u001b[1;32m      5\u001b[0m   \u001b[0max1\u001b[0m\u001b[0;34m.\u001b[0m\u001b[0mset_xlabel\u001b[0m\u001b[0;34m(\u001b[0m\u001b[0;34m'Epochs'\u001b[0m\u001b[0;34m)\u001b[0m\u001b[0;34m\u001b[0m\u001b[0;34m\u001b[0m\u001b[0m\n",
            "\u001b[0;31mValueError\u001b[0m: not enough values to unpack (expected 5, got 2)"
          ]
        },
        {
          "output_type": "display_data",
          "data": {
            "text/plain": [
              "<Figure size 640x480 with 6 Axes>"
            ],
            "image/png": "[encoded data removed]"
          },
          "metadata": {}
        }
      ],
      "source": [
        "# print(np.mean(acc[-100:]))\n",
        "# plot_loss_accuracy(torch.tensor(loss), acc)\n",
        "plot_loss_metrics(train_loss, train_acc, train_pr, train_rec, train_f1)"
      ]
    },
    {
      "cell_type": "code",
      "execution_count": null,
      "metadata": {
        "colab": {
          "base_uri": "https://localhost:8080/"
        },
        "id": "qQz_z4t0spli",
        "outputId": "89648b92-9b2a-4244-d530-5d672be8d158"
      },
      "outputs": [
        {
          "output_type": "stream",
          "name": "stdout",
          "text": [
            "avg = binary : (0.4, 0.4, 0.4000000000000001, None)\n",
            "0.76\n"
          ]
        }
      ],
      "source": [
        "predicted, y_pred = handler.test(x_test_n, x_test_c, y_test)\n",
        "# print(\"avg = None :\", precision_recall_fscore_support(y_test, predicted))\n",
        "# print(\"avg = weighted :\", precision_recall_fscore_support(y_test, predicted, average = 'weighted'))\n",
        "print(\"avg = binary :\", precision_recall_fscore_support(y_test, predicted, average = 'binary')) # This is the accurate one for us\n",
        "# print(\"avg = micro :\", precision_recall_fscore_support(y_test, predicted, average = 'micro'))\n",
        "print(accuracy_score(y_test, predicted))"
      ]
    },
    {
      "cell_type": "code",
      "source": [
        "print(confusion_matrix([0, 1, 0, 1], [1, 1, 1, 0])) # (tn, fp, fn, tp)\n",
        "print(confusion_matrix(y_test, predicted))"
      ],
      "metadata": {
        "colab": {
          "base_uri": "https://localhost:8080/"
        },
        "id": "BulegcD6Rwtc",
        "outputId": "4a26a801-592a-4731-83bf-ccb02af66d09"
      },
      "execution_count": null,
      "outputs": [
        {
          "output_type": "stream",
          "name": "stdout",
          "text": [
            "[[0 2]\n",
            " [1 1]]\n",
            "[[17  3]\n",
            " [ 3  2]]\n"
          ]
        }
      ]
    },
    {
      "cell_type": "code",
      "source": [
        "print(19/25) # acc = (tp + tf) / (tn+fp+fn+tp)\n",
        "print(1/3) # precision = tp / (tp + fp)\n",
        "print(1/5) # recall = tp / (tp + fn)"
      ],
      "metadata": {
        "colab": {
          "base_uri": "https://localhost:8080/"
        },
        "id": "exdWC7pOSo2r",
        "outputId": "9611fc80-ed99-436a-ac82-46a62c08e0d3"
      },
      "execution_count": null,
      "outputs": [
        {
          "output_type": "stream",
          "name": "stdout",
          "text": [
            "0.76\n",
            "0.3333333333333333\n",
            "0.2\n"
          ]
        }
      ]
    },
    {
      "cell_type": "code",
      "execution_count": null,
      "metadata": {
        "colab": {
          "base_uri": "https://localhost:8080/"
        },
        "id": "2F5c2T_zYIm8",
        "outputId": "e7f6b1ee-988e-4feb-bd4e-0a95ad9bc9a3"
      },
      "outputs": [
        {
          "output_type": "stream",
          "name": "stdout",
          "text": [
            "tensor([3.4270e-04, 1.8094e-01, 3.3317e-03, 5.5606e-04, 7.2039e-01, 4.8218e-02,\n",
            "        1.4530e-02, 8.3840e-01, 6.1651e-01, 9.5863e-03, 9.0639e-02, 1.3309e-02,\n",
            "        9.8959e-01, 4.6892e-01, 1.1127e-02, 9.0197e-01, 2.3354e-01, 3.4617e-03,\n",
            "        1.1542e-01, 2.6371e-03, 8.0501e-04, 1.3753e-02, 3.0990e-01, 3.3146e-02,\n",
            "        3.8266e-02])\n",
            "tensor([0., 0., 0., 0., 1., 0., 0., 1., 1., 0., 0., 0., 1., 0., 0., 1., 0., 0.,\n",
            "        0., 0., 0., 0., 0., 0., 0.])\n",
            "tensor([0., 0., 0., 0., 0., 0., 0., 0., 0., 1., 0., 0., 1., 0., 0., 0., 1., 1.,\n",
            "        1., 0., 0., 0., 0., 0., 0.])\n"
          ]
        }
      ],
      "source": [
        "print(y_pred)\n",
        "print(predicted)\n",
        "print(y_test)"
      ]
    },
    {
      "cell_type": "code",
      "execution_count": null,
      "metadata": {
        "id": "tNHsvrmlZTcD",
        "colab": {
          "base_uri": "https://localhost:8080/"
        },
        "outputId": "10142526-447a-47b0-a02f-24aa5e0e6795"
      },
      "outputs": [
        {
          "output_type": "stream",
          "name": "stdout",
          "text": [
            "tensor([5.5761e-01, 6.2514e-05, 6.4782e-01, 1.0993e-02, 5.0000e-01, 6.2573e-05,\n",
            "        2.6204e-05, 5.0000e-01, 1.1675e-07, 3.8183e-07, 5.0000e-01, 5.2468e-01,\n",
            "        3.4097e-01, 5.0000e-01, 9.9193e-01, 7.4466e-01, 6.1052e-06, 7.0956e-02,\n",
            "        4.7277e-01, 3.5975e-01, 5.0000e-01, 9.2810e-01, 4.0253e-07, 1.0479e-02,\n",
            "        5.0000e-01, 3.7864e-02, 7.8181e-09, 2.5808e-04, 2.6944e-05, 1.6284e-01,\n",
            "        2.4310e-03, 4.3476e-07, 5.0000e-01, 2.0155e-05, 2.7491e-02, 2.7362e-01,\n",
            "        5.0000e-01, 5.0000e-01, 4.6771e-01, 6.7656e-01, 8.3557e-01, 5.0000e-01,\n",
            "        5.0000e-01, 9.9996e-01, 1.8179e-01, 5.0000e-01, 7.7508e-01, 2.0263e-01,\n",
            "        7.8061e-01, 5.6394e-01, 5.0745e-01, 3.0886e-02, 7.7843e-04, 5.0000e-01,\n",
            "        8.9021e-02, 9.5270e-02, 9.0072e-01, 5.0000e-01, 4.1875e-11, 6.6305e-02,\n",
            "        1.3705e-05, 5.0000e-01, 5.3262e-01, 3.5418e-01, 5.0000e-01, 5.0000e-01,\n",
            "        5.0000e-01, 6.0840e-06, 4.8080e-04, 9.4080e-02, 2.6035e-04, 7.0908e-08,\n",
            "        5.0000e-01, 5.0000e-01, 9.9572e-01, 8.4599e-01, 5.0000e-01, 1.3195e-07,\n",
            "        8.7994e-05, 5.6006e-06, 2.0064e-01, 1.2343e-02, 1.8984e-04, 5.0000e-01,\n",
            "        9.9972e-05, 3.5788e-01, 5.0000e-01, 4.1439e-09, 1.8529e-07, 3.9511e-05,\n",
            "        1.7069e-04, 9.9761e-01, 2.6239e-01, 3.9692e-03, 1.7295e-05, 1.7246e-03],\n",
            "       grad_fn=<SqueezeBackward0>)\n",
            "tensor([1., 0., 1., 0., 0., 0., 0., 0., 0., 0., 0., 1., 0., 0., 1., 1., 0., 0.,\n",
            "        0., 0., 0., 1., 0., 0., 0., 0., 0., 0., 0., 0., 0., 0., 0., 0., 0., 0.,\n",
            "        0., 0., 0., 1., 1., 0., 0., 1., 0., 0., 1., 0., 1., 1., 1., 0., 0., 0.,\n",
            "        0., 0., 1., 0., 0., 0., 0., 0., 1., 0., 0., 0., 0., 0., 0., 0., 0., 0.,\n",
            "        0., 0., 1., 1., 0., 0., 0., 0., 0., 0., 0., 0., 0., 0., 0., 0., 0., 0.,\n",
            "        0., 1., 0., 0., 0., 0.], grad_fn=<RoundBackward0>)\n",
            "tensor([1., 0., 0., 0., 1., 0., 0., 1., 0., 0., 1., 0., 0., 1., 1., 1., 0., 0.,\n",
            "        0., 0., 0., 1., 0., 0., 0., 0., 0., 0., 0., 1., 0., 0., 0., 0., 0., 0.,\n",
            "        0., 1., 1., 1., 1., 0., 0., 1., 0., 0., 1., 0., 1., 0., 0., 0., 0., 0.,\n",
            "        0., 0., 1., 0., 0., 0., 0., 1., 0., 0., 1., 1., 1., 0., 0., 0., 0., 0.,\n",
            "        0., 0., 1., 1., 0., 0., 0., 0., 0., 0., 0., 1., 0., 0., 0., 0., 0., 0.,\n",
            "        0., 1., 1., 0., 0., 0.])\n",
            "tensor([ 0.,  0., -1.,  0.,  1.,  0.,  0.,  1.,  0.,  0.,  1., -1.,  0.,  1.,\n",
            "         0.,  0.,  0.,  0.,  0.,  0.,  0.,  0.,  0.,  0.,  0.,  0.,  0.,  0.,\n",
            "         0.,  1.,  0.,  0.,  0.,  0.,  0.,  0.,  0.,  1.,  1.,  0.,  0.,  0.,\n",
            "         0.,  0.,  0.,  0.,  0.,  0.,  0., -1., -1.,  0.,  0.,  0.,  0.,  0.,\n",
            "         0.,  0.,  0.,  0.,  0.,  1., -1.,  0.,  1.,  1.,  1.,  0.,  0.,  0.,\n",
            "         0.,  0.,  0.,  0.,  0.,  0.,  0.,  0.,  0.,  0.,  0.,  0.,  0.,  1.,\n",
            "         0.,  0.,  0.,  0.,  0.,  0.,  0.,  0.,  1.,  0.,  0.,  0.],\n",
            "       grad_fn=<SubBackward0>)\n"
          ]
        }
      ],
      "source": [
        "print(y_pred_train)\n",
        "print(predicted_train)\n",
        "print(y_train)\n",
        "print(y_train - predicted_train)"
      ]
    },
    {
      "cell_type": "code",
      "source": [
        "(y_train - predicted_train)*(y_pred_train)"
      ],
      "metadata": {
        "colab": {
          "base_uri": "https://localhost:8080/"
        },
        "id": "ZhgGJe1xq_XW",
        "outputId": "7e9c3ec3-73a9-425a-d359-6a6f998f3026"
      },
      "execution_count": null,
      "outputs": [
        {
          "output_type": "execute_result",
          "data": {
            "text/plain": [
              "tensor([ 0.0000,  0.0000, -0.6478,  0.0000,  0.5000,  0.0000,  0.0000,  0.5000,\n",
              "         0.0000,  0.0000,  0.5000, -0.5247,  0.0000,  0.5000,  0.0000,  0.0000,\n",
              "         0.0000,  0.0000,  0.0000,  0.0000,  0.0000,  0.0000,  0.0000,  0.0000,\n",
              "         0.0000,  0.0000,  0.0000,  0.0000,  0.0000,  0.1628,  0.0000,  0.0000,\n",
              "         0.0000,  0.0000,  0.0000,  0.0000,  0.0000,  0.5000,  0.4677,  0.0000,\n",
              "         0.0000,  0.0000,  0.0000,  0.0000,  0.0000,  0.0000,  0.0000,  0.0000,\n",
              "         0.0000, -0.5639, -0.5075,  0.0000,  0.0000,  0.0000,  0.0000,  0.0000,\n",
              "         0.0000,  0.0000,  0.0000,  0.0000,  0.0000,  0.5000, -0.5326,  0.0000,\n",
              "         0.5000,  0.5000,  0.5000,  0.0000,  0.0000,  0.0000,  0.0000,  0.0000,\n",
              "         0.0000,  0.0000,  0.0000,  0.0000,  0.0000,  0.0000,  0.0000,  0.0000,\n",
              "         0.0000,  0.0000,  0.0000,  0.5000,  0.0000,  0.0000,  0.0000,  0.0000,\n",
              "         0.0000,  0.0000,  0.0000,  0.0000,  0.2624,  0.0000,  0.0000,  0.0000],\n",
              "       grad_fn=<MulBackward0>)"
            ]
          },
          "metadata": {},
          "execution_count": 37
        }
      ]
    },
    {
      "cell_type": "code",
      "source": [
        "print(precision_recall_fscore_support(y_train, torch.tensor(predicted_train), average='weighted'))\n",
        "print(accuracy_score(torch.tensor(y_train), torch.tensor(predicted_train)))"
      ],
      "metadata": {
        "id": "T1vIYQfao12t"
      },
      "execution_count": null,
      "outputs": []
    },
    {
      "cell_type": "markdown",
      "source": [
        "### OLD BS"
      ],
      "metadata": {
        "id": "3SBo3YpCa5cF"
      }
    },
    {
      "cell_type": "code",
      "execution_count": null,
      "metadata": {
        "id": "v8ORPFYKnWxN"
      },
      "outputs": [],
      "source": [
        "X = df_chosen.iloc[:, 2:].values\n",
        "Y = df_chosen.iloc[:, 1].values\n",
        "\n",
        "x_train, x_test, y_train, y_test = train_test_split(X, Y,  test_size=0.2, random_state=42)\n",
        "\n",
        "x_train = torch.FloatTensor(x_train)\n",
        "y_train = torch.FloatTensor(y_train)\n",
        "x_test = torch.FloatTensor(x_test)\n",
        "y_test = torch.FloatTensor(y_test)"
      ]
    },
    {
      "cell_type": "code",
      "execution_count": null,
      "metadata": {
        "id": "sLI4kfVSrCJ0"
      },
      "outputs": [],
      "source": [
        "class NeuralNet(nn.Module):\n",
        "    def __init__(self, in_features, out_features=2):\n",
        "        super().__init__()\n",
        "        self.fc1 = nn.Linear(in_features=in_features,\n",
        "                             out_features=84)\n",
        "        # self.fc2 = nn.Linear(in_features=84,\n",
        "        #                      out_features=84)\n",
        "        self.fc3 = nn.Linear(in_features=84,\n",
        "                             out_features=out_features)\n",
        "\n",
        "\n",
        "    def forward(self, X):\n",
        "        X = F.relu(self.fc1(X))\n",
        "        # X = F.relu(self.fc2(X))\n",
        "        X = F.sigmoid(self.fc3(X))\n",
        "        return X"
      ]
    },
    {
      "cell_type": "code",
      "execution_count": null,
      "metadata": {
        "id": "DiGd3WpI-W16"
      },
      "outputs": [],
      "source": [
        "class ModelHandler():\n",
        "  def __init__(self, model, epochs, learning_rate):\n",
        "    self.model = model\n",
        "    self.epochs = epochs\n",
        "    # self.criterion =  nn.CrossEntropyLoss()\n",
        "    self.criterion =  nn.BCELoss()\n",
        "    self.optimizer = torch.optim.Adam(model.parameters(), lr=learning_rate)\n",
        "\n",
        "\n",
        "  def train(self, x_train, y_train):\n",
        "    losses, acc = [], []\n",
        "    correct, total = 0, 0\n",
        "    for i in tqdm(range(self.epochs)):\n",
        "      y_pred = self.model(x_train)\n",
        "      y_pred = torch.squeeze(y_pred)\n",
        "      # print(y_pred)\n",
        "      # print(y_pred.shape, y_train.shape)\n",
        "      self.optimizer.zero_grad()\n",
        "      loss = self.criterion(y_pred, y_train)\n",
        "      loss.backward()\n",
        "      self.optimizer.step()\n",
        "      losses.append(loss)\n",
        "\n",
        "    #   _, predicted = torch.max(y_pred, 1)\n",
        "      predicted = torch.round(y_pred)\n",
        "      total += y_train.size(0)\n",
        "      correct += (predicted == y_train).sum().item()\n",
        "      acc.append(correct/total)\n",
        "\n",
        "    return losses, acc\n",
        "\n",
        "\n",
        "  def test(self, x_test, y_test):\n",
        "    # test_loss, test_acc = 0, 0\n",
        "\n",
        "    self.model.eval()\n",
        "    # correct, total = 0, 0\n",
        "    with torch.no_grad():\n",
        "      y_pred = self.model(x_test)\n",
        "      predicted = torch.round(y_pred)\n",
        "    #   _, predicted = torch.max(y_pred, 1)\n",
        "    # total += y_test.size(0)\n",
        "    # correct += (predicted == y_test).sum().item()\n",
        "\n",
        "    # test_acc = correct/total\n",
        "\n",
        "    return predicted, y_pred"
      ]
    },
    {
      "cell_type": "code",
      "execution_count": null,
      "metadata": {
        "id": "DAVw9KZNrUZ5"
      },
      "outputs": [],
      "source": [
        "model = NeuralNet(40, 1)\n",
        "handler = ModelHandler(model, 150, 0.01)\n",
        "loss, acc = handler.train(x_train, y_train)"
      ]
    }
  ],
  "metadata": {
    "colab": {
      "provenance": []
    },
    "kernelspec": {
      "display_name": "Python 3",
      "name": "python3"
    },
    "language_info": {
      "name": "python"
    },
    "widgets": {
      "application/vnd.jupyter.widget-state+json": {
        "897e30d6d8f04871a36203ded1e396eb": {
          "model_module": "@jupyter-widgets/controls",
          "model_name": "HBoxModel",
          "model_module_version": "1.5.0",
          "state": {
            "_dom_classes": [],
            "_model_module": "@jupyter-widgets/controls",
            "_model_module_version": "1.5.0",
            "_model_name": "HBoxModel",
            "_view_count": null,
            "_view_module": "@jupyter-widgets/controls",
            "_view_module_version": "1.5.0",
            "_view_name": "HBoxView",
            "box_style": "",
            "children": [
              "IPY_MODEL_15177fb3078543c3b24ac02316c990bb",
              "IPY_MODEL_45b65ce2d14149f790367efe62d12119",
              "IPY_MODEL_7c9858cdcf8646ec88f4b45afa008ef0"
            ],
            "layout": "IPY_MODEL_c0d093aa579241b5ae684ebdfbd46c13"
          }
        },
        "15177fb3078543c3b24ac02316c990bb": {
          "model_module": "@jupyter-widgets/controls",
          "model_name": "HTMLModel",
          "model_module_version": "1.5.0",
          "state": {
            "_dom_classes": [],
            "_model_module": "@jupyter-widgets/controls",
            "_model_module_version": "1.5.0",
            "_model_name": "HTMLModel",
            "_view_count": null,
            "_view_module": "@jupyter-widgets/controls",
            "_view_module_version": "1.5.0",
            "_view_name": "HTMLView",
            "description": "",
            "description_tooltip": null,
            "layout": "IPY_MODEL_4b343a6d93184c0987aa8dddfdddc91f",
            "placeholder": "​",
            "style": "IPY_MODEL_240bf064689b45e7ae4e7cc8c53effa6",
            "value": "100%"
          }
        },
        "45b65ce2d14149f790367efe62d12119": {
          "model_module": "@jupyter-widgets/controls",
          "model_name": "FloatProgressModel",
          "model_module_version": "1.5.0",
          "state": {
            "_dom_classes": [],
            "_model_module": "@jupyter-widgets/controls",
            "_model_module_version": "1.5.0",
            "_model_name": "FloatProgressModel",
            "_view_count": null,
            "_view_module": "@jupyter-widgets/controls",
            "_view_module_version": "1.5.0",
            "_view_name": "ProgressView",
            "bar_style": "success",
            "description": "",
            "description_tooltip": null,
            "layout": "IPY_MODEL_bf6f65da3657434a9317fc012b017602",
            "max": 400,
            "min": 0,
            "orientation": "horizontal",
            "style": "IPY_MODEL_101a982494834b66995fa96af861eb88",
            "value": 400
          }
        },
        "7c9858cdcf8646ec88f4b45afa008ef0": {
          "model_module": "@jupyter-widgets/controls",
          "model_name": "HTMLModel",
          "model_module_version": "1.5.0",
          "state": {
            "_dom_classes": [],
            "_model_module": "@jupyter-widgets/controls",
            "_model_module_version": "1.5.0",
            "_model_name": "HTMLModel",
            "_view_count": null,
            "_view_module": "@jupyter-widgets/controls",
            "_view_module_version": "1.5.0",
            "_view_name": "HTMLView",
            "description": "",
            "description_tooltip": null,
            "layout": "IPY_MODEL_7fb53ad18157459db0ff45048f08e084",
            "placeholder": "​",
            "style": "IPY_MODEL_2bf76101268c4e88b9bfdc20128234f9",
            "value": " 400/400 [00:00&lt;00:00, 988.17it/s]"
          }
        },
        "c0d093aa579241b5ae684ebdfbd46c13": {
          "model_module": "@jupyter-widgets/base",
          "model_name": "LayoutModel",
          "model_module_version": "1.2.0",
          "state": {
            "_model_module": "@jupyter-widgets/base",
            "_model_module_version": "1.2.0",
            "_model_name": "LayoutModel",
            "_view_count": null,
            "_view_module": "@jupyter-widgets/base",
            "_view_module_version": "1.2.0",
            "_view_name": "LayoutView",
            "align_content": null,
            "align_items": null,
            "align_self": null,
            "border": null,
            "bottom": null,
            "display": null,
            "flex": null,
            "flex_flow": null,
            "grid_area": null,
            "grid_auto_columns": null,
            "grid_auto_flow": null,
            "grid_auto_rows": null,
            "grid_column": null,
            "grid_gap": null,
            "grid_row": null,
            "grid_template_areas": null,
            "grid_template_columns": null,
            "grid_template_rows": null,
            "height": null,
            "justify_content": null,
            "justify_items": null,
            "left": null,
            "margin": null,
            "max_height": null,
            "max_width": null,
            "min_height": null,
            "min_width": null,
            "object_fit": null,
            "object_position": null,
            "order": null,
            "overflow": null,
            "overflow_x": null,
            "overflow_y": null,
            "padding": null,
            "right": null,
            "top": null,
            "visibility": null,
            "width": null
          }
        },
        "4b343a6d93184c0987aa8dddfdddc91f": {
          "model_module": "@jupyter-widgets/base",
          "model_name": "LayoutModel",
          "model_module_version": "1.2.0",
          "state": {
            "_model_module": "@jupyter-widgets/base",
            "_model_module_version": "1.2.0",
            "_model_name": "LayoutModel",
            "_view_count": null,
            "_view_module": "@jupyter-widgets/base",
            "_view_module_version": "1.2.0",
            "_view_name": "LayoutView",
            "align_content": null,
            "align_items": null,
            "align_self": null,
            "border": null,
            "bottom": null,
            "display": null,
            "flex": null,
            "flex_flow": null,
            "grid_area": null,
            "grid_auto_columns": null,
            "grid_auto_flow": null,
            "grid_auto_rows": null,
            "grid_column": null,
            "grid_gap": null,
            "grid_row": null,
            "grid_template_areas": null,
            "grid_template_columns": null,
            "grid_template_rows": null,
            "height": null,
            "justify_content": null,
            "justify_items": null,
            "left": null,
            "margin": null,
            "max_height": null,
            "max_width": null,
            "min_height": null,
            "min_width": null,
            "object_fit": null,
            "object_position": null,
            "order": null,
            "overflow": null,
            "overflow_x": null,
            "overflow_y": null,
            "padding": null,
            "right": null,
            "top": null,
            "visibility": null,
            "width": null
          }
        },
        "240bf064689b45e7ae4e7cc8c53effa6": {
          "model_module": "@jupyter-widgets/controls",
          "model_name": "DescriptionStyleModel",
          "model_module_version": "1.5.0",
          "state": {
            "_model_module": "@jupyter-widgets/controls",
            "_model_module_version": "1.5.0",
            "_model_name": "DescriptionStyleModel",
            "_view_count": null,
            "_view_module": "@jupyter-widgets/base",
            "_view_module_version": "1.2.0",
            "_view_name": "StyleView",
            "description_width": ""
          }
        },
        "bf6f65da3657434a9317fc012b017602": {
          "model_module": "@jupyter-widgets/base",
          "model_name": "LayoutModel",
          "model_module_version": "1.2.0",
          "state": {
            "_model_module": "@jupyter-widgets/base",
            "_model_module_version": "1.2.0",
            "_model_name": "LayoutModel",
            "_view_count": null,
            "_view_module": "@jupyter-widgets/base",
            "_view_module_version": "1.2.0",
            "_view_name": "LayoutView",
            "align_content": null,
            "align_items": null,
            "align_self": null,
            "border": null,
            "bottom": null,
            "display": null,
            "flex": null,
            "flex_flow": null,
            "grid_area": null,
            "grid_auto_columns": null,
            "grid_auto_flow": null,
            "grid_auto_rows": null,
            "grid_column": null,
            "grid_gap": null,
            "grid_row": null,
            "grid_template_areas": null,
            "grid_template_columns": null,
            "grid_template_rows": null,
            "height": null,
            "justify_content": null,
            "justify_items": null,
            "left": null,
            "margin": null,
            "max_height": null,
            "max_width": null,
            "min_height": null,
            "min_width": null,
            "object_fit": null,
            "object_position": null,
            "order": null,
            "overflow": null,
            "overflow_x": null,
            "overflow_y": null,
            "padding": null,
            "right": null,
            "top": null,
            "visibility": null,
            "width": null
          }
        },
        "101a982494834b66995fa96af861eb88": {
          "model_module": "@jupyter-widgets/controls",
          "model_name": "ProgressStyleModel",
          "model_module_version": "1.5.0",
          "state": {
            "_model_module": "@jupyter-widgets/controls",
            "_model_module_version": "1.5.0",
            "_model_name": "ProgressStyleModel",
            "_view_count": null,
            "_view_module": "@jupyter-widgets/base",
            "_view_module_version": "1.2.0",
            "_view_name": "StyleView",
            "bar_color": null,
            "description_width": ""
          }
        },
        "7fb53ad18157459db0ff45048f08e084": {
          "model_module": "@jupyter-widgets/base",
          "model_name": "LayoutModel",
          "model_module_version": "1.2.0",
          "state": {
            "_model_module": "@jupyter-widgets/base",
            "_model_module_version": "1.2.0",
            "_model_name": "LayoutModel",
            "_view_count": null,
            "_view_module": "@jupyter-widgets/base",
            "_view_module_version": "1.2.0",
            "_view_name": "LayoutView",
            "align_content": null,
            "align_items": null,
            "align_self": null,
            "border": null,
            "bottom": null,
            "display": null,
            "flex": null,
            "flex_flow": null,
            "grid_area": null,
            "grid_auto_columns": null,
            "grid_auto_flow": null,
            "grid_auto_rows": null,
            "grid_column": null,
            "grid_gap": null,
            "grid_row": null,
            "grid_template_areas": null,
            "grid_template_columns": null,
            "grid_template_rows": null,
            "height": null,
            "justify_content": null,
            "justify_items": null,
            "left": null,
            "margin": null,
            "max_height": null,
            "max_width": null,
            "min_height": null,
            "min_width": null,
            "object_fit": null,
            "object_position": null,
            "order": null,
            "overflow": null,
            "overflow_x": null,
            "overflow_y": null,
            "padding": null,
            "right": null,
            "top": null,
            "visibility": null,
            "width": null
          }
        },
        "2bf76101268c4e88b9bfdc20128234f9": {
          "model_module": "@jupyter-widgets/controls",
          "model_name": "DescriptionStyleModel",
          "model_module_version": "1.5.0",
          "state": {
            "_model_module": "@jupyter-widgets/controls",
            "_model_module_version": "1.5.0",
            "_model_name": "DescriptionStyleModel",
            "_view_count": null,
            "_view_module": "@jupyter-widgets/base",
            "_view_module_version": "1.2.0",
            "_view_name": "StyleView",
            "description_width": ""
          }
        }
      }
    }
  },
  "nbformat": 4,
  "nbformat_minor": 0
}